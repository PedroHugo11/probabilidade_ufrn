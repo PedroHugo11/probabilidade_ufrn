{
  "nbformat": 4,
  "nbformat_minor": 0,
  "metadata": {
    "colab": {
      "name": "notebook_ufrn.ipynb",
      "version": "0.3.2",
      "provenance": [],
      "toc_visible": true,
      "include_colab_link": true
    },
    "kernelspec": {
      "name": "python3",
      "display_name": "Python 3"
    }
  },
  "cells": [
    {
      "cell_type": "markdown",
      "metadata": {
        "id": "view-in-github",
        "colab_type": "text"
      },
      "source": [
        "<a href=\"https://colab.research.google.com/github/PedroHugo11/probabilidade_ufrn/blob/master/notebook_ufrn.ipynb\" target=\"_parent\"><img src=\"https://colab.research.google.com/assets/colab-badge.svg\" alt=\"Open In Colab\"/></a>"
      ]
    },
    {
      "cell_type": "markdown",
      "metadata": {
        "id": "9SPiZ9ufTSRV",
        "colab_type": "text"
      },
      "source": [
        "**Atividade avaliativa extra - 2ª unidade**\n",
        "\n",
        "\n",
        "---\n",
        "\n",
        "Análise de dados por etnia e gênero na graduação e pós-graduação ao decorrer dos tempos na UFRN.\n",
        "Componentes: Pedro Hugo e Victor Vieira."
      ]
    },
    {
      "cell_type": "markdown",
      "metadata": {
        "id": "RAID-xHTTrup",
        "colab_type": "text"
      },
      "source": [
        "Para dar início a esta análise, iremos procurar em http://dados.ufrn.br/ para extrair os dados dos 5 programas de pós graduação e 5 cursos de graduação de cada centro da UFRN. Os centros são: **Centro de Biociências**, **Centro de Ciências da Saúde**, **Centro de Ciências Exatas e da Terra**, **Centro de Ciências Humanas, Letras e Artes**, **Centro de Ciências Sociais Aplicadas**, **Centro de Tecnologia**, além do **IMD** e **ECT**.\n",
        "\n",
        "*   **Centro de Biociência (CB)** : Biologia, Biomedicina, Ecologia e Engenharia de Aquicultura;\n",
        "*   **Centro de Ciências da Saúde (CCS)** : Fonodiaulogia, Nutrição, Medicina, Enfermagem e Fisioterapia;\n",
        "*   **Centro de Ciências Exatas e da Terra (CCET)**: Física, Matemática, Geologia, Química e Meteorologia;\n",
        "*   **Centro de Ciências Humanas, Letras e Artes(CCHLA)**: Letras, Artes, Geografia, História e Psicologia;\n",
        "*   **Centro de Ciências Sociais Aplicadas (CCSA)**: Direito, Administração, Turismo, Ciências Contábeis e Economia;\n",
        "*   **Centro de Tecnologia (CT)**: Engenharia Elétrica, Engenharia Mecânica, Engenharia Mecatrônica, Engenharia Civil e Engenharia Química;\n",
        "*   **Instituto Metrópole Digital (IMD)**: Tecnologia da Informação;\n",
        "*   **Escola de Ciências e Tecnologia**: Ciências e Tecnologia.\n",
        "\n",
        "\n",
        "\n",
        "\n",
        "\n",
        "\n",
        "\n"
      ]
    },
    {
      "cell_type": "code",
      "metadata": {
        "id": "MAIR0yP3edTq",
        "colab_type": "code",
        "colab": {}
      },
      "source": [
        "import pandas as pd\n",
        "import matplotlib.pyplot as plt\n",
        "import seaborn as sns\n",
        "\n",
        "# Fazendo a leitura de todos que ingressaram em seus respectivos anos\n",
        "list_2009 = pd.read_csv(\"discentes-2009.csv\", sep=\";\")\n",
        "list_2010 = pd.read_csv(\"discentes-2010.csv\", sep=\";\")\n",
        "list_2011 = pd.read_csv(\"discentes-2011.csv\", sep=\";\")\n",
        "list_2012 = pd.read_csv(\"discentes-2012.csv\", sep=\";\")\n",
        "list_2013 = pd.read_csv(\"discentes-2013.csv\", sep=\";\")\n",
        "list_2014 = pd.read_csv(\"discentes-2014.csv\", sep=\";\")\n",
        "list_2015 = pd.read_csv(\"discentes-2015.csv\", sep=\";\")\n",
        "list_2016 = pd.read_csv(\"discentes-2016.csv\", sep=\";\")\n",
        "list_2017 = pd.read_csv(\"discentes-2017.csv\", sep=\";\")\n",
        "list_2018 = pd.read_csv(\"discentes-2018.csv\", sep=\";\")\n",
        "list_2019 = pd.read_csv(\"discentes-2019.csv\", sep=\";\")"
      ],
      "execution_count": 0,
      "outputs": []
    },
    {
      "cell_type": "code",
      "metadata": {
        "id": "PiL6XWwofp3v",
        "colab_type": "code",
        "colab": {}
      },
      "source": [
        "\n",
        "# Agora vamos unir todos os datasets em um só.\n",
        "list_fusion = pd.concat([list_2009, list_2010, list_2011, list_2012, list_2013, list_2014, list_2015, list_2016, list_2017, list_2018, list_2019], axis = 0)\n",
        "list_fusion.head()"
      ],
      "execution_count": 0,
      "outputs": []
    },
    {
      "cell_type": "code",
      "metadata": {
        "id": "koAPpuYynVX4",
        "colab_type": "code",
        "colab": {}
      },
      "source": [
        "# Apaga linhas com valores nulos\n",
        "list_fusion = list_fusion.dropna()"
      ],
      "execution_count": 0,
      "outputs": []
    },
    {
      "cell_type": "code",
      "metadata": {
        "id": "8WS0Ed5DoXWd",
        "colab_type": "code",
        "colab": {}
      },
      "source": [
        "#Separação em curso e programas de pós.\n",
        "\n",
        "discentes_graduacao = list_fusion[list_fusion[\"nivel_ensino\"] == \"GRADUAÇÃO\"].dropna()\n",
        "\n",
        "discentes_pos_graduacao = list_fusion[list_fusion[\"nivel_ensino\"].isin(['LATO SENSU', 'MESTRADO', 'DOUTORADO', 'RESIDÊNCIA', 'STRICTO SENSU'])].dropna()"
      ],
      "execution_count": 0,
      "outputs": []
    },
    {
      "cell_type": "markdown",
      "metadata": {
        "id": "sR39IxZ4ysuv",
        "colab_type": "text"
      },
      "source": [
        "Separação de cursos e programas"
      ]
    },
    {
      "cell_type": "code",
      "metadata": {
        "id": "wi_xinWRokbT",
        "colab_type": "code",
        "colab": {}
      },
      "source": [
        "# Cursos da graduação escolhidos para análise\n",
        "base = [\"CIÊNCIAS BIOLÓGICAS\", \"BIOMEDICINA\", \"ENGENHARIA DE AQUICULTURA\", \"ECOLOGIA\",\n",
        "         \"NUTRIÇÃO\", \"ENFERMAGEM\", \"FONODIAULOGIA\", \"MEDICINA\", \"FISIOTERAPIA\",\n",
        "         \"METEOROLOGIA\", \"FÍSICA\", \"MATEMÁTICA\", \"GEOLOGIA\", \"QUÍMICA\",\n",
        "         \"ARTES VISUAIS\", \"HISTÓRIA\", \"GEOGRAFIA\", \"LETRAS\", \"PSICOLOGIA\",\n",
        "         \"CIÊNCIAS CONTÁBEIS\", \"DIREITO\", \"TURISMO\", \"CIÊNCIAS ECONÔMICAS\", \"ADMINISTRAÇÃO\",\n",
        "         \"ENGENHARIA MECATRÔNICA\", \"ENGENHARIA CIVIL\", \"ENGENHARIA ELÉTRICA\", \"ENGENHARIA MECÂNICA\", \"ENGENHARIA QUÍMICA\",\n",
        "         \"TECNOLOGIA DA INFORMAÇÃO\",\n",
        "         \"CIÊNCIAS E TECNOLOGIA\"]\n",
        "\n",
        "# Apenas os cursos da análise\n",
        "discentes_graduacao = discentes_graduacao.loc[discentes_graduacao[\"nome_curso\"].isin(base)]\n",
        "\n",
        "discentes_graduacao[\"nome_curso\"].value_counts().sort_index(ascending = True)"
      ],
      "execution_count": 0,
      "outputs": []
    },
    {
      "cell_type": "code",
      "metadata": {
        "id": "jJRFFSABwSd4",
        "colab_type": "code",
        "colab": {}
      },
      "source": [
        "# Programas da pós-graduação escolhidos para análise\n",
        "programas = ['PROGRAMA DE PÓS-GRADUAÇÃO EM ENGENHARIA ELÉTRICA E DE COMPUTAÇÃO',\n",
        "            'PROGRAMA DE PÓS-GRADUAÇÃO EM ENGENHARIA DE SOFTWARE',\n",
        "            'PROGRAMA DE PÓS-GRADUAÇÃO EM SISTEMAS E COMPUTAÇÃO',\n",
        "            'PROGRAMA DE PÓS-GRADUAÇÃO EM INOVAÇÃO EM TECNOLOGIAS EDUCACIONAIS',\n",
        "            'PROGRAMA DE PÓS-GRADUAÇÃO EM BIOINFORMÁTICA']\n",
        "\n",
        "discentes_pos_graduacao = discentes_pos_graduacao.loc[discentes_pos_graduacao[\"nome_unidade\"].isin(programas)]\n",
        "\n",
        "discentes_pos_graduacao[\"nome_unidade\"].value_counts().sort_index(ascending = True)\n"
      ],
      "execution_count": 0,
      "outputs": []
    },
    {
      "cell_type": "markdown",
      "metadata": {
        "id": "V_ARmNQl1Ktv",
        "colab_type": "text"
      },
      "source": [
        "# Agora façamos uma análise do sexo dos ingressantes de todos os cursos da graduação escolhidos."
      ]
    },
    {
      "cell_type": "code",
      "metadata": {
        "id": "Nujj8vFH1etQ",
        "colab_type": "code",
        "colab": {}
      },
      "source": [
        "import seaborn as sns\n",
        "fig, ax = plt.subplots(1,3,figsize=(25, 5))\n",
        "\n",
        "list_fusion = list_fusion[list_fusion.sexo != \"N\"]\n",
        "\n",
        "sns.countplot(x = 'ano_ingresso', hue = 'sexo', data = discentes_graduacao, ax=ax[0], palette=  {\"M\":\"C0\", \"F\":\"C6\"})\n",
        "sns.countplot(x = 'ano_ingresso', hue = 'sexo', data = discentes_pos_graduacao, ax=ax[1], palette=  {\"M\":\"C0\", \"F\":\"C6\"})\n",
        "sns.countplot(x = 'ano_ingresso', hue = 'sexo', data = list_fusion, ax=ax[2], palette= {\"M\":\"C0\", \"F\":\"C6\"})\n",
        "\n",
        "ax[0].set_title(\"Graduação\")\n",
        "ax[0].set_xlabel(\"Ano de Ingresso\")\n",
        "ax[0].set_ylabel(\"Quantidade\")\n",
        "\n",
        "ax[1].set_title(\"Pós-Graduação\")\n",
        "ax[1].set_xlabel(\"Ano de Ingresso\")\n",
        "ax[1].set_ylabel(\"Quantidade\")\n",
        "\n",
        "ax[2].set_title(\"UFRN\")\n",
        "ax[2].set_xlabel(\"Ano de Ingresso\")\n",
        "ax[2].set_ylabel(\"Quantidade\")\n",
        "\n",
        "\n",
        "plt.show()"
      ],
      "execution_count": 0,
      "outputs": []
    },
    {
      "cell_type": "markdown",
      "metadata": {
        "id": "uFwe90Z15Tgh",
        "colab_type": "text"
      },
      "source": [
        "Podemos notar que a quantidade homens é predominante em todas as tabelas. Porém, a partir de 2015 o número de mulheres começou a crescer, tendo, porém, uma queda em 2019. Se os dados futuros tenderem a seguir essa linha de crescimento, poderá chegar a um equilíbrio entre homens e mulheres na UFRN, não tendo uma diferença tão acentuada entre os dois."
      ]
    },
    {
      "cell_type": "markdown",
      "metadata": {
        "id": "cT6yZfTQHBOj",
        "colab_type": "text"
      },
      "source": [
        "# Agora façamos uma análise da etnia dos ingressantes de todos os cursos da graduação escolhidos."
      ]
    },
    {
      "cell_type": "code",
      "metadata": {
        "id": "COMNNEKAHIjQ",
        "colab_type": "code",
        "outputId": "e63fa30b-bcbf-4b5a-c632-4bf95d0180cf",
        "colab": {
          "base_uri": "https://localhost:8080/",
          "height": 370
        }
      },
      "source": [
        "fig, ax = plt.subplots(1,3,figsize=(25, 5))\n",
        "\n",
        "list_fusion = list_fusion[list_fusion.raca != \"Não Informado\"]\n",
        "discentes_graduacao = discentes_graduacao[discentes_graduacao.raca != \"Não Informado\"]\n",
        "discentes_pos_graduacao = discentes_pos_graduacao[discentes_pos_graduacao.raca != \"Não Informado\"]\n",
        "\n",
        "palette = {\"Pardo\":\"C0\", \"Branco\":\"C1\", \"Negro\":\"C2\", \"Amarelo (de origem oriental)\":\"C3\", \"Indígeno\":\"C4\", \"Remanescente de quilombo\":\"C5\"}\n",
        "\n",
        "sns.countplot(x = 'ano_ingresso', hue = 'raca', data = discentes_graduacao, ax=ax[0], palette = palette)\n",
        "sns.countplot(x = 'ano_ingresso', hue = 'raca', data = discentes_pos_graduacao, ax=ax[1], palette = palette)\n",
        "sns.countplot(x = 'ano_ingresso', hue = 'raca', data = list_fusion, ax=ax[2], palette = palette)\n",
        "\n",
        "ax[0].set_title(\"Graduação\")\n",
        "ax[0].set_xlabel(\"Ano de Ingresso\")\n",
        "ax[0].set_ylabel(\"Quantidade\")\n",
        "\n",
        "ax[1].set_title(\"Pós-Graduação\")\n",
        "ax[1].set_xlabel(\"Ano de Ingresso\")\n",
        "ax[1].set_ylabel(\"Quantidade\")\n",
        "\n",
        "ax[2].set_title(\"UFRN\")\n",
        "ax[2].set_xlabel(\"Ano de Ingresso\")\n",
        "ax[2].set_ylabel(\"Quantidade\")\n",
        "\n",
        "\n",
        "plt.show()"
      ],
      "execution_count": 0,
      "outputs": [
        {
          "output_type": "display_data",
          "data": {
            "image/png": "[encoded data removed]",
            "text/plain": [
              "<Figure size 1800x360 with 3 Axes>"
            ]
          },
          "metadata": {
            "tags": []
          }
        }
      ]
    },
    {
      "cell_type": "markdown",
      "metadata": {
        "id": "RDkcgzUhZO2d",
        "colab_type": "text"
      },
      "source": [
        "Claramente a quantidade de Brancos e pardos é de forma gigantesca maior que todas as outras raças. Sendo na pós-graduação onde os negros estão menos presentes, porém onde os amarelos são mais presentes, demonstrando uma possível vocação de inteligência ou esforço para essa raça."
      ]
    }
  ]
}